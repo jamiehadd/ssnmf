{
 "cells": [
  {
   "cell_type": "code",
   "execution_count": 1,
   "metadata": {},
   "outputs": [],
   "source": [
    "import os\n",
    "from sklearn.feature_extraction.text import TfidfVectorizer\n",
    "import nltk\n",
    "# nltk.download('stopwords')\n",
    "from nltk.corpus import stopwords\n",
    "from sklearn.model_selection import train_test_split\n",
    "import numpy as np\n",
    "from statistics import mean\n",
    "from statistics import stdev"
   ]
  },
  {
   "cell_type": "markdown",
   "metadata": {},
   "source": [
    "## Load Data"
   ]
  },
  {
   "cell_type": "code",
   "execution_count": 2,
   "metadata": {},
   "outputs": [
    {
     "data": {
      "text/plain": [
       "['Dennis+Schwartz', 'James+Berardinelli', 'Scott+Renshaw', 'Steve+Rhodes']"
      ]
     },
     "execution_count": 2,
     "metadata": {},
     "output_type": "execute_result"
    }
   ],
   "source": [
    "path = 'scale_data/scaledata'\n",
    "list_dir = os.listdir(path)\n",
    "list_dir"
   ]
  },
  {
   "cell_type": "code",
   "execution_count": 3,
   "metadata": {},
   "outputs": [],
   "source": [
    "reviews_list = list() ## A list of all reviews\n",
    "for direc in list_dir:\n",
    "    file = os.path.join(path, direc, \"subj.\" + direc) \n",
    "    reviews_file = open(file)\n",
    "    reviews_file_contents = reviews_file.read()\n",
    "    reviews_list.extend(reviews_file_contents.splitlines())\n",
    "    reviews_file.close()"
   ]
  },
  {
   "cell_type": "code",
   "execution_count": 4,
   "metadata": {},
   "outputs": [],
   "source": [
    "ratings_list = list() ## A list of all ratings\n",
    "for direc in list_dir:\n",
    "    file = os.path.join(path, direc, \"rating.\" + direc) \n",
    "    ratings_file = open(file)\n",
    "    ratings_file_contents = ratings_file.read()\n",
    "    ratings_list.extend(ratings_file_contents.splitlines())\n",
    "    ratings_file.close()"
   ]
  },
  {
   "cell_type": "markdown",
   "metadata": {},
   "source": [
    "## Train-Test Split"
   ]
  },
  {
   "cell_type": "code",
   "execution_count": 5,
   "metadata": {},
   "outputs": [],
   "source": [
    "full_reviews_list_train, full_reviews_list_test, full_ratings_list_train, ratings_list_test = train_test_split(reviews_list, ratings_list, test_size=0.30, random_state=42)"
   ]
  },
  {
   "cell_type": "markdown",
   "metadata": {},
   "source": [
    "## Train-Validation Split"
   ]
  },
  {
   "cell_type": "code",
   "execution_count": 6,
   "metadata": {},
   "outputs": [],
   "source": [
    "reviews_list_train, reviews_list_val, ratings_list_train, ratings_list_val = train_test_split(full_reviews_list_train, full_ratings_list_train, test_size=0.25, random_state=1)"
   ]
  },
  {
   "cell_type": "markdown",
   "metadata": {},
   "source": [
    "## Transform Data"
   ]
  },
  {
   "cell_type": "code",
   "execution_count": 7,
   "metadata": {},
   "outputs": [],
   "source": [
    "def tfidf_train(newsgroups_train, n_features):\n",
    "    \"\"\"\n",
    "    Train a TFIDF vectorizer and compute the TFIDF representation of the train data.\n",
    "\n",
    "    Args:\n",
    "        newsgroups_train (ndarray): corpus of all documents from all categories in train set\n",
    "        n_features (int): vocabulary size\n",
    "    Returns:\n",
    "        vectorizer_train (object): trained tfidf vectorizer\n",
    "        feature_names_train (list): list of features extracted from the trained tfidf vectorizer\n",
    "        X_train (ndarray): tfidf word-document matrix of train data\n",
    "\n",
    "    \"\"\"\n",
    "    # Extract Tfidf weights\n",
    "    stop_words_list = nltk.corpus.stopwords.words('english')\n",
    "    vectorizer_train = TfidfVectorizer(max_features=n_features,\n",
    "                                    min_df=5, max_df=0.70,\n",
    "                                    token_pattern = '[a-zA-Z]+',\n",
    "                                    stop_words = stop_words_list)\n",
    "    vectors_train = vectorizer_train.fit_transform(newsgroups_train)\n",
    "    feature_names_train = vectorizer_train.get_feature_names() #features list\n",
    "    dense_train = vectors_train.todense()\n",
    "\n",
    "    denselist_train = np.array(dense_train).transpose() # tfidf matrix\n",
    "    X_train = denselist_train.copy() # train data (tfidf)\n",
    "\n",
    "    return vectorizer_train, feature_names_train, X_train"
   ]
  },
  {
   "cell_type": "code",
   "execution_count": 8,
   "metadata": {},
   "outputs": [],
   "source": [
    "def tfidf_transform(vectorizer_train, newsgroups_test):\n",
    "    \"\"\"\n",
    "    Apply TFIDF transformation to test data.\n",
    "\n",
    "    Args:\n",
    "        vectorizer_train (object): trained tfidf vectorizer\n",
    "        newsgroups_test (ndarray): corpus of all documents from all categories in test set\n",
    "    Returns:\n",
    "        X_test (ndarray): tfidf word-document matrix of test data\n",
    "    \"\"\"\n",
    "\n",
    "    vectors_test = vectorizer_train.transform(newsgroups_test)\n",
    "    dense_test = vectors_test.todense()\n",
    "    denselist_test = np.array(dense_test).transpose()\n",
    "    X_test = denselist_test.copy()\n",
    "\n",
    "    return X_test"
   ]
  },
  {
   "cell_type": "code",
   "execution_count": 9,
   "metadata": {},
   "outputs": [],
   "source": [
    "def shuffle_data(X,y):\n",
    "    \"\"\"\n",
    "    Shuffle data X, labels y\n",
    "\n",
    "    Args/Returns:\n",
    "        X (ndarray): data matrix, shape (vocabulary, documents)\n",
    "        y (ndarray): labels, shape (documents,)\n",
    "    \"\"\"\n",
    "    data = np.row_stack((X, y))\n",
    "    np.random.shuffle(data.T)\n",
    "    X = data[:-1,:]\n",
    "    y = data[-1,:]\n",
    "\n",
    "    return X, y"
   ]
  },
  {
   "cell_type": "code",
   "execution_count": 10,
   "metadata": {},
   "outputs": [],
   "source": [
    "# Compute the TFIDF representation of the train set\n",
    "vectorizer_train, feature_names_train, X_train = tfidf_train(reviews_list_train, n_features = 5000)"
   ]
  },
  {
   "cell_type": "code",
   "execution_count": 11,
   "metadata": {},
   "outputs": [],
   "source": [
    "train_ratings = np.array(ratings_list_train)\n",
    "train_ratings = train_ratings.astype('float64') "
   ]
  },
  {
   "cell_type": "code",
   "execution_count": 12,
   "metadata": {},
   "outputs": [],
   "source": [
    "train_ratings = np.array(ratings_list_train)\n",
    "train_ratings = train_ratings.astype('float64') \n",
    "X_train, train_ratings = shuffle_data(X_train, train_ratings)"
   ]
  },
  {
   "cell_type": "code",
   "execution_count": 13,
   "metadata": {},
   "outputs": [],
   "source": [
    "# Apply TFIDF transformation to validation set\n",
    "X_val = tfidf_transform(vectorizer_train, reviews_list_val)\n",
    "val_ratings = np.array(ratings_list_val)\n",
    "val_ratings = val_ratings.astype('float64') \n",
    "X_val, val_ratings = shuffle_data(X_val, val_ratings)"
   ]
  },
  {
   "cell_type": "code",
   "execution_count": 14,
   "metadata": {},
   "outputs": [],
   "source": [
    "# Compute the TFIDF representation of the full train set\n",
    "vectorizer_train_full, feature_names_train_full, X_train_full = tfidf_train(full_reviews_list_train, n_features = 5000)\n",
    "full_train_ratings = np.array(full_ratings_list_train)\n",
    "full_train_ratings = full_train_ratings.astype('float64') \n",
    "X_train_full, full_train_ratings = shuffle_data(X_train_full, full_train_ratings)"
   ]
  },
  {
   "cell_type": "code",
   "execution_count": 15,
   "metadata": {},
   "outputs": [],
   "source": [
    "# Apply TFIDF transformation to test data set\n",
    "X_test = tfidf_transform(vectorizer_train_full, full_reviews_list_test)\n",
    "test_ratings = np.array(ratings_list_test)\n",
    "test_ratings = test_ratings.astype('float64') \n",
    "X_test, test_ratings = shuffle_data(X_test, test_ratings)"
   ]
  },
  {
   "cell_type": "code",
   "execution_count": 16,
   "metadata": {},
   "outputs": [],
   "source": [
    "## Convert rating 1-d rating arrays to 2-D to use in SSNMF\n",
    "train_ratings = train_ratings[np.newaxis, :]\n",
    "val_ratings = val_ratings[np.newaxis, :]\n",
    "full_train_ratings = full_train_ratings[np.newaxis, :]\n",
    "test_ratings = test_ratings[np.newaxis, :]"
   ]
  },
  {
   "cell_type": "code",
   "execution_count": 17,
   "metadata": {},
   "outputs": [
    {
     "data": {
      "text/plain": [
       "(5000, 2628)"
      ]
     },
     "execution_count": 17,
     "metadata": {},
     "output_type": "execute_result"
    }
   ],
   "source": [
    "X_train.shape"
   ]
  },
  {
   "cell_type": "code",
   "execution_count": 18,
   "metadata": {},
   "outputs": [
    {
     "data": {
      "text/plain": [
       "(1, 2628)"
      ]
     },
     "execution_count": 18,
     "metadata": {},
     "output_type": "execute_result"
    }
   ],
   "source": [
    "train_ratings.shape"
   ]
  },
  {
   "cell_type": "markdown",
   "metadata": {},
   "source": [
    "### SSNMF"
   ]
  },
  {
   "cell_type": "code",
   "execution_count": 19,
   "metadata": {},
   "outputs": [],
   "source": [
    "import ssnmf\n",
    "from ssnmf.evaluation  import Evaluation\n",
    "from sklearn.metrics import r2_score\n",
    "from sklearn.metrics import mean_absolute_error\n",
    "from sklearn.metrics import mean_squared_error\n",
    "from sklearn.metrics import max_error"
   ]
  },
  {
   "cell_type": "code",
   "execution_count": 20,
   "metadata": {},
   "outputs": [],
   "source": [
    "class Methods:\n",
    "\n",
    "    def __init__(self, X_train, X_val, X_test, y_train, y_val, y_test, X_train_full,\\\n",
    "                    y_train_full):\n",
    "        \"\"\"\n",
    "        Class for all methods.\n",
    "        Parameters:\n",
    "            X_train (ndarray): tfidf train data matrix, shape (vocabulary size, number of train documents)\n",
    "            X_val (ndarray): tfidf validation data matrix, shape (vocabulary size, number of val documents)\n",
    "            X_test (ndarray): tfidf test data matrix, shape (vocabulary size, number of test documents)\n",
    "            y_train (ndarray): outcome of all documents in train set\n",
    "            y_val (ndarray):  outcome of all documents in val set\n",
    "            y_test (ndarray):  outcome of all documents in test set\n",
    "            X_train_full (ndarray): tfidf full train data matrix, shape (vocabulary size, number of full train documents)\n",
    "            y_train_full (ndarray):  labels of all documents in full train set\n",
    "        \"\"\"\n",
    "        self.X_train = X_train\n",
    "        self.X_val = X_val\n",
    "        self.X_test = X_test\n",
    "        self.y_train = y_train\n",
    "        self.y_test = y_test\n",
    "        self.y_val = y_val\n",
    "        self.X_train_full = X_train_full\n",
    "        self.y_train_full = y_train_full\n",
    "        \n",
    "    def SSNMF(self, modelNum, ssnmf_tol, lamb, ka, itas, print_results=0):\n",
    "        \"\"\"\n",
    "        Run (S)SNMF on the TFIDF representation of documents.\n",
    "        Args:\n",
    "            modelNum (int): SSNMF model number\n",
    "            ssnmf_tol (float): tolerance for termanating SSNMF model\n",
    "            lamb (float): regularization parameter of SSNMF\n",
    "            ka (int): input rank for SSNMF\n",
    "            itas (int): maximum number of multiplicative update iterations\n",
    "            hyp_search (boolean): 0: run hyperparameter search algorithm, 1:otherwise\n",
    "            print_results (boolean): 1: print classification report, heatmaps, and keywords, 0:otherwise\n",
    "        Retruns:\n",
    "            test_evals(list): [float(total reconstruction error (model objective function) on test data),\n",
    "                                    float(data reconstruction error on test data),\n",
    "                                    float(label reconstruction error on test data),\n",
    "                                    float(classification accuracy on test data)]\n",
    "            eval_module.model.A (ndarray): learnt word dictionary matrix for data reconstruction, shape (words, topics)\n",
    "            eval_module.model.B (ndarray): learnt dictionary matrix for classification, shape (classes, topics)\n",
    "            ssnmf_predicted (ndarray): predicted labels for data points in test set\n",
    "            ssnmf_iter (int): actual number of iterations of SSNMF model\n",
    "            S (ndarray): document representation matrix for train set, shape (topics, train + test documents)\n",
    "            S_test (ndarray): document representation matrix for test set, shape (topics, test documents)\n",
    "        \"\"\"\n",
    "\n",
    "        print(\"\\nRunning SSNMF for Model {}.\".format(modelNum))\n",
    "        self.ssnmf_tol = ssnmf_tol\n",
    "        self.modelNum = modelNum\n",
    "\n",
    "       \n",
    "        self.opt_ka = ka\n",
    "        self.opt_lamb = lamb\n",
    "        self.opt_itas = itas\n",
    "        \n",
    "        eval_module = Evaluation(train_features = self.X_train_full,\n",
    "                                 train_labels = self.y_train_full,\n",
    "                                 test_features = self.X_test, test_labels = self.y_test, tol = self.ssnmf_tol,\n",
    "                                 modelNum = self.modelNum, k = self.opt_ka, lam=self.opt_lamb, numiters = self.opt_itas)\n",
    "\n",
    "        train_evals, test_evals = eval_module.eval()\n",
    "        ssnmf_iter = len(train_evals[0])\n",
    "\n",
    "\n",
    "        ssnmf_predicted = eval_module.model.B@eval_module.S_test\n",
    "\n",
    "        S = eval_module.model.S\n",
    "        S_test = eval_module.S_test\n",
    "\n",
    "        return test_evals[:-1], eval_module.model.A, eval_module.model.B, ssnmf_predicted, ssnmf_iter, S, S_test\n"
   ]
  },
  {
   "cell_type": "markdown",
   "metadata": {},
   "source": [
    "### Run SSNMF for one set of lamda and tolerence values"
   ]
  },
  {
   "cell_type": "code",
   "execution_count": 21,
   "metadata": {},
   "outputs": [
    {
     "name": "stdout",
     "output_type": "stream",
     "text": [
      "Iteration 0.\n",
      "\n",
      "Running SSNMF for Model 4.\n",
      "Iteration 1.\n",
      "\n",
      "Running SSNMF for Model 4.\n",
      "Iteration 2.\n",
      "\n",
      "Running SSNMF for Model 4.\n",
      "Iteration 3.\n",
      "\n",
      "Running SSNMF for Model 4.\n",
      "Iteration 4.\n",
      "\n",
      "Running SSNMF for Model 4.\n",
      "Iteration 5.\n",
      "\n",
      "Running SSNMF for Model 4.\n",
      "Iteration 6.\n",
      "\n",
      "Running SSNMF for Model 4.\n",
      "Iteration 7.\n",
      "\n",
      "Running SSNMF for Model 4.\n",
      "Iteration 8.\n",
      "\n",
      "Running SSNMF for Model 4.\n",
      "Iteration 9.\n",
      "\n",
      "Running SSNMF for Model 4.\n",
      "Iteration 10.\n",
      "\n",
      "Running SSNMF for Model 4.\n"
     ]
    }
   ],
   "source": [
    "iterations = 11\n",
    "rank = 13\n",
    "ssnmf_lam = 1e-4\n",
    "ssnmf_tol = 1e+1\n",
    "# Construct an evaluation module\n",
    "evalualtion_module = Methods(X_train = X_train, X_val = X_val, X_test = X_val,\\\n",
    "                             y_train = train_ratings, y_val = val_ratings,\\\n",
    "                             y_test = val_ratings, X_train_full = X_train,\\\n",
    "                             y_train_full = train_ratings)\n",
    "\n",
    "for j in range(iterations):\n",
    "    print(\"Iteration {}.\".format(j))\n",
    "    test_evals, A, B, ssnmf_predicted, ssnmf_iter, S, S_test = evalualtion_module.SSNMF(modelNum = 4,\n",
    "                                                                        ssnmf_tol = ssnmf_tol,lamb = ssnmf_lam, ka = rank, itas= 50)\n",
    "        "
   ]
  },
  {
   "cell_type": "code",
   "execution_count": 22,
   "metadata": {},
   "outputs": [
    {
     "name": "stdout",
     "output_type": "stream",
     "text": [
      "-1.196128454868814\n"
     ]
    },
    {
     "data": {
      "image/png": "[encoded data removed]",
      "text/plain": [
       "<Figure size 432x288 with 1 Axes>"
      ]
     },
     "metadata": {
      "needs_background": "light"
     },
     "output_type": "display_data"
    }
   ],
   "source": [
    "## Calculate R**2\n",
    "## y = np.squeeze(val_ratings)\n",
    "## y_hat = np.squeeze(ssnmf_predicted)  \n",
    "## 1-(sum((y-y_hat)**2)/sum((y-np.mean(y))**2))\n",
    "r2_val = r2_score(np.squeeze(val_ratings), np.squeeze(ssnmf_predicted))\n",
    "print(r2_val)\n",
    "\n",
    "import matplotlib.pyplot as plt\n",
    "plt.scatter(np.squeeze(val_ratings), np.squeeze(ssnmf_predicted))\n",
    "plt.show()"
   ]
  },
  {
   "cell_type": "code",
   "execution_count": 23,
   "metadata": {},
   "outputs": [
    {
     "name": "stdout",
     "output_type": "stream",
     "text": [
      "0.0710948015648122\n"
     ]
    }
   ],
   "source": [
    "## Calculate MSE\n",
    "MSE_val = mean_squared_error(np.squeeze(val_ratings), np.squeeze(ssnmf_predicted))\n",
    "print(MSE_val)"
   ]
  },
  {
   "cell_type": "code",
   "execution_count": 24,
   "metadata": {},
   "outputs": [
    {
     "name": "stdout",
     "output_type": "stream",
     "text": [
      "0.21260213003330242\n"
     ]
    }
   ],
   "source": [
    "## Calculate MAE\n",
    "MAE_val = mean_absolute_error(np.squeeze(val_ratings), np.squeeze(ssnmf_predicted))\n",
    "print(MAE_val)"
   ]
  },
  {
   "cell_type": "code",
   "execution_count": 25,
   "metadata": {},
   "outputs": [
    {
     "name": "stdout",
     "output_type": "stream",
     "text": [
      "0.8464537094392659\n"
     ]
    }
   ],
   "source": [
    "## Calculate maximum error\n",
    "max_error = max_error(np.squeeze(val_ratings), np.squeeze(ssnmf_predicted))\n",
    "print(max_error)"
   ]
  },
  {
   "cell_type": "markdown",
   "metadata": {},
   "source": [
    "### Run SSNMF for various tolerance and regularizer values"
   ]
  },
  {
   "cell_type": "code",
   "execution_count": 26,
   "metadata": {},
   "outputs": [],
   "source": [
    "# ------------ PARAMETERS ------------\n",
    "rank = 13 # (int) input rank for NMF and (S)SNMF models\n",
    "iterations = 3 # (odd int) number of iterations to run for analysis"
   ]
  },
  {
   "cell_type": "code",
   "execution_count": 27,
   "metadata": {},
   "outputs": [
    {
     "name": "stdout",
     "output_type": "stream",
     "text": [
      "Testing lambda equal to 10.0.\n",
      "Testing tolerance equal to 0.0001.\n",
      "Iteration 0.\n",
      "\n",
      "Running SSNMF for Model 3.\n",
      "\n",
      "Running SSNMF for Model 4.\n",
      "\n",
      "Running SSNMF for Model 5.\n",
      "\n",
      "Running SSNMF for Model 6.\n",
      "Iteration 1.\n",
      "\n",
      "Running SSNMF for Model 3.\n",
      "\n",
      "Running SSNMF for Model 4.\n",
      "\n",
      "Running SSNMF for Model 5.\n",
      "\n",
      "Running SSNMF for Model 6.\n",
      "Iteration 2.\n",
      "\n",
      "Running SSNMF for Model 3.\n",
      "\n",
      "Running SSNMF for Model 4.\n",
      "\n",
      "Running SSNMF for Model 5.\n",
      "\n",
      "Running SSNMF for Model 6.\n",
      "Model 3 average accuracy (with tol = 0.0001 and lam = 10.0): -0.3820 ± 0.2659.\n",
      "Model 4 average accuracy (with tol = 0.0001 and lam = 10.0): -0.3799 ± 0.2399.\n",
      "Model 5 average accuracy (with tol = 0.0001 and lam = 10.0): 0.1705 ± 0.0470.\n",
      "Model 6 average accuracy (with tol = 0.0001 and lam = 10.0): 0.1203 ± 0.1310.\n",
      "Testing tolerance equal to 0.001.\n",
      "Iteration 0.\n",
      "\n",
      "Running SSNMF for Model 3.\n",
      "\n",
      "Running SSNMF for Model 4.\n",
      "\n",
      "Running SSNMF for Model 5.\n",
      "\n",
      "Running SSNMF for Model 6.\n",
      "Iteration 1.\n",
      "\n",
      "Running SSNMF for Model 3.\n",
      "\n",
      "Running SSNMF for Model 4.\n",
      "\n",
      "Running SSNMF for Model 5.\n",
      "\n",
      "Running SSNMF for Model 6.\n",
      "Iteration 2.\n",
      "\n",
      "Running SSNMF for Model 3.\n",
      "\n",
      "Running SSNMF for Model 4.\n",
      "\n",
      "Running SSNMF for Model 5.\n",
      "\n",
      "Running SSNMF for Model 6.\n",
      "Model 3 average accuracy (with tol = 0.001 and lam = 10.0): -1.1674 ± 0.2169.\n",
      "Model 4 average accuracy (with tol = 0.001 and lam = 10.0): -1.4074 ± 0.2348.\n",
      "Model 5 average accuracy (with tol = 0.001 and lam = 10.0): -0.0129 ± 0.0696.\n",
      "Model 6 average accuracy (with tol = 0.001 and lam = 10.0): -0.0124 ± 0.0176.\n",
      "Testing tolerance equal to 0.01.\n",
      "Iteration 0.\n",
      "\n",
      "Running SSNMF for Model 3.\n",
      "\n",
      "Running SSNMF for Model 4.\n",
      "\n",
      "Running SSNMF for Model 5.\n",
      "\n",
      "Running SSNMF for Model 6.\n",
      "Iteration 1.\n",
      "\n",
      "Running SSNMF for Model 3.\n",
      "\n",
      "Running SSNMF for Model 4.\n",
      "\n",
      "Running SSNMF for Model 5.\n",
      "\n",
      "Running SSNMF for Model 6.\n",
      "Iteration 2.\n",
      "\n",
      "Running SSNMF for Model 3.\n",
      "\n",
      "Running SSNMF for Model 4.\n",
      "\n",
      "Running SSNMF for Model 5.\n",
      "\n",
      "Running SSNMF for Model 6.\n",
      "Model 3 average accuracy (with tol = 0.01 and lam = 10.0): -1.6179 ± 0.3203.\n",
      "Model 4 average accuracy (with tol = 0.01 and lam = 10.0): -1.2110 ± 0.2670.\n",
      "Model 5 average accuracy (with tol = 0.01 and lam = 10.0): -0.3861 ± 0.0347.\n",
      "Model 6 average accuracy (with tol = 0.01 and lam = 10.0): -0.3263 ± 0.1683.\n",
      "Testing lambda equal to 100.0.\n",
      "Testing tolerance equal to 0.0001.\n",
      "Iteration 0.\n",
      "\n",
      "Running SSNMF for Model 3.\n",
      "\n",
      "Running SSNMF for Model 4.\n",
      "\n",
      "Running SSNMF for Model 5.\n",
      "\n",
      "Running SSNMF for Model 6.\n",
      "Iteration 1.\n",
      "\n",
      "Running SSNMF for Model 3.\n",
      "\n",
      "Running SSNMF for Model 4.\n",
      "\n",
      "Running SSNMF for Model 5.\n",
      "\n",
      "Running SSNMF for Model 6.\n",
      "Iteration 2.\n",
      "\n",
      "Running SSNMF for Model 3.\n",
      "\n",
      "Running SSNMF for Model 4.\n",
      "\n",
      "Running SSNMF for Model 5.\n",
      "\n",
      "Running SSNMF for Model 6.\n",
      "Model 3 average accuracy (with tol = 0.0001 and lam = 100.0): -1.1080 ± 0.3312.\n",
      "Model 4 average accuracy (with tol = 0.0001 and lam = 100.0): -0.7443 ± 0.1879.\n",
      "Model 5 average accuracy (with tol = 0.0001 and lam = 100.0): -0.0257 ± 0.0791.\n",
      "Model 6 average accuracy (with tol = 0.0001 and lam = 100.0): 0.0074 ± 0.1098.\n",
      "Testing tolerance equal to 0.001.\n",
      "Iteration 0.\n",
      "\n",
      "Running SSNMF for Model 3.\n",
      "\n",
      "Running SSNMF for Model 4.\n",
      "\n",
      "Running SSNMF for Model 5.\n",
      "\n",
      "Running SSNMF for Model 6.\n",
      "Iteration 1.\n",
      "\n",
      "Running SSNMF for Model 3.\n",
      "\n",
      "Running SSNMF for Model 4.\n",
      "\n",
      "Running SSNMF for Model 5.\n",
      "\n",
      "Running SSNMF for Model 6.\n",
      "Iteration 2.\n",
      "\n",
      "Running SSNMF for Model 3.\n",
      "\n",
      "Running SSNMF for Model 4.\n",
      "\n",
      "Running SSNMF for Model 5.\n",
      "\n",
      "Running SSNMF for Model 6.\n",
      "Model 3 average accuracy (with tol = 0.001 and lam = 100.0): -1.3926 ± 0.3510.\n",
      "Model 4 average accuracy (with tol = 0.001 and lam = 100.0): -1.7284 ± 0.3953.\n",
      "Model 5 average accuracy (with tol = 0.001 and lam = 100.0): -0.1142 ± 0.1404.\n",
      "Model 6 average accuracy (with tol = 0.001 and lam = 100.0): -0.0509 ± 0.0678.\n",
      "Testing tolerance equal to 0.01.\n",
      "Iteration 0.\n",
      "\n",
      "Running SSNMF for Model 3.\n",
      "\n",
      "Running SSNMF for Model 4.\n",
      "\n",
      "Running SSNMF for Model 5.\n",
      "\n",
      "Running SSNMF for Model 6.\n",
      "Iteration 1.\n",
      "\n",
      "Running SSNMF for Model 3.\n",
      "\n",
      "Running SSNMF for Model 4.\n",
      "\n",
      "Running SSNMF for Model 5.\n",
      "\n",
      "Running SSNMF for Model 6.\n",
      "Iteration 2.\n",
      "\n",
      "Running SSNMF for Model 3.\n",
      "\n",
      "Running SSNMF for Model 4.\n",
      "\n",
      "Running SSNMF for Model 5.\n",
      "\n",
      "Running SSNMF for Model 6.\n",
      "Model 3 average accuracy (with tol = 0.01 and lam = 100.0): -1.1770 ± 0.3781.\n",
      "Model 4 average accuracy (with tol = 0.01 and lam = 100.0): -1.2314 ± 0.2750.\n",
      "Model 5 average accuracy (with tol = 0.01 and lam = 100.0): -0.4233 ± 0.1579.\n",
      "Model 6 average accuracy (with tol = 0.01 and lam = 100.0): -0.2982 ± 0.0774.\n",
      "Testing lambda equal to 1000.0.\n",
      "Testing tolerance equal to 0.0001.\n",
      "Iteration 0.\n",
      "\n",
      "Running SSNMF for Model 3.\n",
      "\n",
      "Running SSNMF for Model 4.\n",
      "\n",
      "Running SSNMF for Model 5.\n",
      "\n",
      "Running SSNMF for Model 6.\n",
      "Iteration 1.\n",
      "\n",
      "Running SSNMF for Model 3.\n",
      "\n",
      "Running SSNMF for Model 4.\n",
      "\n",
      "Running SSNMF for Model 5.\n",
      "\n",
      "Running SSNMF for Model 6.\n",
      "Iteration 2.\n",
      "\n",
      "Running SSNMF for Model 3.\n",
      "\n",
      "Running SSNMF for Model 4.\n",
      "\n",
      "Running SSNMF for Model 5.\n",
      "\n",
      "Running SSNMF for Model 6.\n",
      "Model 3 average accuracy (with tol = 0.0001 and lam = 1000.0): -1.0147 ± 0.2415.\n",
      "Model 4 average accuracy (with tol = 0.0001 and lam = 1000.0): -1.1950 ± 0.1263.\n",
      "Model 5 average accuracy (with tol = 0.0001 and lam = 1000.0): -0.0995 ± 0.0459.\n",
      "Model 6 average accuracy (with tol = 0.0001 and lam = 1000.0): -0.2515 ± 0.0980.\n",
      "Testing tolerance equal to 0.001.\n",
      "Iteration 0.\n",
      "\n",
      "Running SSNMF for Model 3.\n",
      "\n",
      "Running SSNMF for Model 4.\n",
      "\n",
      "Running SSNMF for Model 5.\n",
      "\n",
      "Running SSNMF for Model 6.\n",
      "Iteration 1.\n",
      "\n",
      "Running SSNMF for Model 3.\n",
      "\n",
      "Running SSNMF for Model 4.\n",
      "\n",
      "Running SSNMF for Model 5.\n",
      "\n",
      "Running SSNMF for Model 6.\n",
      "Iteration 2.\n",
      "\n",
      "Running SSNMF for Model 3.\n",
      "\n",
      "Running SSNMF for Model 4.\n",
      "\n",
      "Running SSNMF for Model 5.\n",
      "\n",
      "Running SSNMF for Model 6.\n",
      "Model 3 average accuracy (with tol = 0.001 and lam = 1000.0): -1.4928 ± 0.1922.\n",
      "Model 4 average accuracy (with tol = 0.001 and lam = 1000.0): -2.1793 ± 0.3810.\n",
      "Model 5 average accuracy (with tol = 0.001 and lam = 1000.0): 0.0431 ± 0.0210.\n",
      "Model 6 average accuracy (with tol = 0.001 and lam = 1000.0): -0.1605 ± 0.0830.\n",
      "Testing tolerance equal to 0.01.\n",
      "Iteration 0.\n",
      "\n",
      "Running SSNMF for Model 3.\n",
      "\n",
      "Running SSNMF for Model 4.\n",
      "\n",
      "Running SSNMF for Model 5.\n",
      "\n",
      "Running SSNMF for Model 6.\n",
      "Iteration 1.\n",
      "\n",
      "Running SSNMF for Model 3.\n",
      "\n",
      "Running SSNMF for Model 4.\n",
      "\n",
      "Running SSNMF for Model 5.\n",
      "\n",
      "Running SSNMF for Model 6.\n",
      "Iteration 2.\n",
      "\n",
      "Running SSNMF for Model 3.\n",
      "\n",
      "Running SSNMF for Model 4.\n",
      "\n",
      "Running SSNMF for Model 5.\n",
      "\n",
      "Running SSNMF for Model 6.\n",
      "Model 3 average accuracy (with tol = 0.01 and lam = 1000.0): -1.6365 ± 0.3964.\n",
      "Model 4 average accuracy (with tol = 0.01 and lam = 1000.0): -1.5848 ± 0.1510.\n",
      "Model 5 average accuracy (with tol = 0.01 and lam = 1000.0): -0.4636 ± 0.0598.\n",
      "Model 6 average accuracy (with tol = 0.01 and lam = 1000.0): -0.4409 ± 0.1175.\n",
      "Model 3 average accuracy (with tol = 0.0001 and lam = 10.0): -0.3820 ± 0.2659.\n",
      "Model 3 average accuracy (with tol = 0.001 and lam = 10.0): -1.1674 ± 0.2169.\n",
      "Model 3 average accuracy (with tol = 0.01 and lam = 10.0): -1.6179 ± 0.3203.\n",
      "Model 3 average accuracy (with tol = 0.0001 and lam = 100.0): -1.1080 ± 0.3312.\n",
      "Model 3 average accuracy (with tol = 0.001 and lam = 100.0): -1.3926 ± 0.3510.\n",
      "Model 3 average accuracy (with tol = 0.01 and lam = 100.0): -1.1770 ± 0.3781.\n",
      "Model 3 average accuracy (with tol = 0.0001 and lam = 1000.0): -1.0147 ± 0.2415.\n",
      "Model 3 average accuracy (with tol = 0.001 and lam = 1000.0): -1.4928 ± 0.1922.\n",
      "Model 3 average accuracy (with tol = 0.01 and lam = 1000.0): -1.6365 ± 0.3964.\n",
      "\n",
      "Model 4 average accuracy (with tol = 0.0001 and lam = 10.0): -0.3799 ± 0.2399.\n",
      "Model 4 average accuracy (with tol = 0.001 and lam = 10.0): -1.4074 ± 0.2348.\n",
      "Model 4 average accuracy (with tol = 0.01 and lam = 10.0): -1.2110 ± 0.2670.\n",
      "Model 4 average accuracy (with tol = 0.0001 and lam = 100.0): -0.7443 ± 0.1879.\n",
      "Model 4 average accuracy (with tol = 0.001 and lam = 100.0): -1.7284 ± 0.3953.\n",
      "Model 4 average accuracy (with tol = 0.01 and lam = 100.0): -1.2314 ± 0.2750.\n",
      "Model 4 average accuracy (with tol = 0.0001 and lam = 1000.0): -1.1950 ± 0.1263.\n",
      "Model 4 average accuracy (with tol = 0.001 and lam = 1000.0): -2.1793 ± 0.3810.\n",
      "Model 4 average accuracy (with tol = 0.01 and lam = 1000.0): -1.5848 ± 0.1510.\n",
      "\n",
      "Model 5 average accuracy (with tol = 0.0001 and lam = 10.0): 0.1705 ± 0.0470.\n",
      "Model 5 average accuracy (with tol = 0.001 and lam = 10.0): -0.0129 ± 0.0696.\n",
      "Model 5 average accuracy (with tol = 0.01 and lam = 10.0): -0.3861 ± 0.0347.\n",
      "Model 5 average accuracy (with tol = 0.0001 and lam = 100.0): -0.0257 ± 0.0791.\n",
      "Model 5 average accuracy (with tol = 0.001 and lam = 100.0): -0.1142 ± 0.1404.\n",
      "Model 5 average accuracy (with tol = 0.01 and lam = 100.0): -0.4233 ± 0.1579.\n",
      "Model 5 average accuracy (with tol = 0.0001 and lam = 1000.0): -0.0995 ± 0.0459.\n",
      "Model 5 average accuracy (with tol = 0.001 and lam = 1000.0): 0.0431 ± 0.0210.\n",
      "Model 5 average accuracy (with tol = 0.01 and lam = 1000.0): -0.4636 ± 0.0598.\n",
      "\n",
      "Model 6 average accuracy (with tol = 0.0001 and lam = 10.0): 0.1203 ± 0.1310.\n",
      "Model 6 average accuracy (with tol = 0.001 and lam = 10.0): -0.0124 ± 0.0176.\n",
      "Model 6 average accuracy (with tol = 0.01 and lam = 10.0): -0.3263 ± 0.1683.\n",
      "Model 6 average accuracy (with tol = 0.0001 and lam = 100.0): 0.0074 ± 0.1098.\n",
      "Model 6 average accuracy (with tol = 0.001 and lam = 100.0): -0.0509 ± 0.0678.\n",
      "Model 6 average accuracy (with tol = 0.01 and lam = 100.0): -0.2982 ± 0.0774.\n",
      "Model 6 average accuracy (with tol = 0.0001 and lam = 1000.0): -0.2515 ± 0.0980.\n",
      "Model 6 average accuracy (with tol = 0.001 and lam = 1000.0): -0.1605 ± 0.0830.\n",
      "Model 6 average accuracy (with tol = 0.01 and lam = 1000.0): -0.4409 ± 0.1175.\n",
      "\n"
     ]
    }
   ],
   "source": [
    "\"\"\" Run SSNMF for various tolerance and regularizer values.\"\"\"\n",
    "\n",
    "tol_list = [1e-4,1e-3,1e-2]\n",
    "lam_list = [1e+1,1e+2,1e+3]\n",
    "mean_dict = {\"Model3\": [], \"Model4\": [], \"Model5\": [], \"Model6\": []}\n",
    "std_dict = {\"Model3\": [], \"Model4\": [], \"Model5\": [], \"Model6\": []}\n",
    "\n",
    "for lam_idx in range (len(lam_list)):\n",
    "    ssnmf_lam = lam_list[lam_idx]\n",
    "    print(\"Testing lambda equal to {}.\".format(ssnmf_lam))\n",
    "    for tol_idx in range (len(tol_list)):\n",
    "        ssnmf_tol = tol_list[tol_idx]\n",
    "        print(\"Testing tolerance equal to {}.\".format(ssnmf_tol))\n",
    "        acc_dict = {\"Model3\": [], \"Model4\": [], \"Model5\": [], \"Model6\": []}\n",
    "        # Construct an evaluation module\n",
    "        evalualtion_module = Methods(X_train = X_train, X_val = X_val, X_test = X_val,\\\n",
    "                            y_train = train_ratings, y_val = val_ratings,\\\n",
    "                            y_test = val_ratings, X_train_full = X_train,\\\n",
    "                            y_train_full = train_ratings)\n",
    "\n",
    "        for j in range(iterations):\n",
    "            print(\"Iteration {}.\".format(j))\n",
    "            for i in range(3,7):\n",
    "                # Run SSNMF\n",
    "                test_evals, A, B, ssnmf_predicted, ssnmf_iter, S, S_test = evalualtion_module.SSNMF(modelNum = i,\n",
    "                                                                        ssnmf_tol = ssnmf_tol,lamb = ssnmf_lam, ka = rank, itas= 50)\n",
    "                ## Calculate R**2\n",
    "                acc_dict[\"Model\" + str(i)].append(r2_score(np.squeeze(val_ratings), np.squeeze(ssnmf_predicted)))\n",
    "                \n",
    "                ## Calculate MSE\n",
    "                ## acc_dict[\"Model\" + str(i)].append(mean_squared_error(np.squeeze(val_ratings), np.squeeze(ssnmf_predicted)))\n",
    "                \n",
    "                ## Calculate MAE\n",
    "                ## acc_dict[\"Model\" + str(i)].append(mean_absolute_error(np.squeeze(val_ratings), np.squeeze(ssnmf_predicted)))\n",
    "    \n",
    "        for i in range(3,7):\n",
    "            acc = acc_dict[\"Model\" + str(i)]\n",
    "            mean_dict[\"Model\" + str(i)].append(mean(acc))\n",
    "            std_dict[\"Model\" + str(i)].append(stdev(acc))\n",
    "            print(\"Model {} average accuracy (with tol = {} and lam = {}): {:.4f} ± {:.4f}.\".format(i,ssnmf_tol,ssnmf_lam,mean(acc),stdev(acc)))\n",
    "\n",
    "for i in range(3,7):\n",
    "    idx_final = 0\n",
    "    for lam_idx in range(len(lam_list)):\n",
    "        ssnmf_lam = lam_list[lam_idx]\n",
    "        for tol_idx in range (len(tol_list)):\n",
    "            ssnmf_tol = tol_list[tol_idx]\n",
    "            m_final = mean_dict[\"Model\" + str(i)][idx_final]\n",
    "            s_final = std_dict[\"Model\" + str(i)][idx_final]\n",
    "            print(\"Model {} average accuracy (with tol = {} and lam = {}): {:.4f} ± {:.4f}.\".format(i,ssnmf_tol,ssnmf_lam,m_final,s_final))\n",
    "            idx_final += 1\n",
    "    print()\n"
   ]
  },
  {
   "cell_type": "code",
   "execution_count": null,
   "metadata": {},
   "outputs": [],
   "source": []
  }
 ],
 "metadata": {
  "kernelspec": {
   "display_name": "Python 3",
   "language": "python",
   "name": "python3"
  },
  "language_info": {
   "codemirror_mode": {
    "name": "ipython",
    "version": 3
   },
   "file_extension": ".py",
   "mimetype": "text/x-python",
   "name": "python",
   "nbconvert_exporter": "python",
   "pygments_lexer": "ipython3",
   "version": "3.7.6"
  }
 },
 "nbformat": 4,
 "nbformat_minor": 4
}
