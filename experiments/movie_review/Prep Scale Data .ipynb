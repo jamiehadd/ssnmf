{
 "cells": [
  {
   "cell_type": "code",
   "execution_count": 1,
   "metadata": {},
   "outputs": [],
   "source": [
    "import os\n",
    "from sklearn.feature_extraction.text import TfidfVectorizer\n",
    "import nltk\n",
    "# nltk.download('stopwords')\n",
    "from nltk.corpus import stopwords\n",
    "from sklearn.model_selection import train_test_split\n",
    "import numpy as np"
   ]
  },
  {
   "cell_type": "markdown",
   "metadata": {},
   "source": [
    "## Load Data"
   ]
  },
  {
   "cell_type": "code",
   "execution_count": 2,
   "metadata": {},
   "outputs": [
    {
     "data": {
      "text/plain": [
       "['Dennis+Schwartz', 'James+Berardinelli', 'Scott+Renshaw', 'Steve+Rhodes']"
      ]
     },
     "execution_count": 2,
     "metadata": {},
     "output_type": "execute_result"
    }
   ],
   "source": [
    "path = 'scale_data/scaledata'\n",
    "list_dir = os.listdir(path)\n",
    "list_dir"
   ]
  },
  {
   "cell_type": "code",
   "execution_count": 3,
   "metadata": {},
   "outputs": [],
   "source": [
    "reviews_list = list() ## A list of all reviews\n",
    "for direc in list_dir:\n",
    "    file = os.path.join(path, direc, \"subj.\" + direc) \n",
    "    reviews_file = open(file)\n",
    "    reviews_file_contents = reviews_file.read()\n",
    "    reviews_list.extend(reviews_file_contents.splitlines())\n",
    "    reviews_file.close()"
   ]
  },
  {
   "cell_type": "code",
   "execution_count": 4,
   "metadata": {},
   "outputs": [],
   "source": [
    "ratings_list = list() ## A list of all ratings\n",
    "for direc in list_dir:\n",
    "    file = os.path.join(path, direc, \"rating.\" + direc) \n",
    "    ratings_file = open(file)\n",
    "    ratings_file_contents = ratings_file.read()\n",
    "    ratings_list.extend(ratings_file_contents.splitlines())\n",
    "    ratings_file.close()"
   ]
  },
  {
   "cell_type": "markdown",
   "metadata": {},
   "source": [
    "## Train-Test Split"
   ]
  },
  {
   "cell_type": "code",
   "execution_count": 5,
   "metadata": {},
   "outputs": [],
   "source": [
    "full_reviews_list_train, full_reviews_list_test, full_ratings_list_train, ratings_list_test = train_test_split(reviews_list, ratings_list, test_size=0.30, random_state=42)"
   ]
  },
  {
   "cell_type": "markdown",
   "metadata": {},
   "source": [
    "## Train-Validation Split"
   ]
  },
  {
   "cell_type": "code",
   "execution_count": 6,
   "metadata": {},
   "outputs": [],
   "source": [
    "reviews_list_train, reviews_list_val, ratings_list_train, ratings_list_val = train_test_split(full_reviews_list_train, full_ratings_list_train, test_size=0.25, random_state=1)"
   ]
  },
  {
   "cell_type": "markdown",
   "metadata": {},
   "source": [
    "## Transform Data"
   ]
  },
  {
   "cell_type": "code",
   "execution_count": 7,
   "metadata": {},
   "outputs": [],
   "source": [
    "def tfidf_train(newsgroups_train, n_features):\n",
    "    \"\"\"\n",
    "    Train a TFIDF vectorizer and compute the TFIDF representation of the train data.\n",
    "\n",
    "    Args:\n",
    "        newsgroups_train (ndarray): corpus of all documents from all categories in train set\n",
    "        n_features (int): vocabulary size\n",
    "    Returns:\n",
    "        vectorizer_train (object): trained tfidf vectorizer\n",
    "        feature_names_train (list): list of features extracted from the trained tfidf vectorizer\n",
    "        X_train (ndarray): tfidf word-document matrix of train data\n",
    "\n",
    "    \"\"\"\n",
    "    # Extract Tfidf weights\n",
    "    stop_words_list = nltk.corpus.stopwords.words('english')\n",
    "    vectorizer_train = TfidfVectorizer(max_features=n_features,\n",
    "                                    min_df=5, max_df=0.70,\n",
    "                                    token_pattern = '[a-zA-Z]+',\n",
    "                                    stop_words = stop_words_list)\n",
    "    vectors_train = vectorizer_train.fit_transform(newsgroups_train)\n",
    "    feature_names_train = vectorizer_train.get_feature_names() #features list\n",
    "    dense_train = vectors_train.todense()\n",
    "\n",
    "    denselist_train = np.array(dense_train).transpose() # tfidf matrix\n",
    "    X_train = denselist_train.copy() # train data (tfidf)\n",
    "\n",
    "    return vectorizer_train, feature_names_train, X_train"
   ]
  },
  {
   "cell_type": "code",
   "execution_count": 8,
   "metadata": {},
   "outputs": [],
   "source": [
    "def tfidf_transform(vectorizer_train, newsgroups_test):\n",
    "    \"\"\"\n",
    "    Apply TFIDF transformation to test data.\n",
    "\n",
    "    Args:\n",
    "        vectorizer_train (object): trained tfidf vectorizer\n",
    "        newsgroups_test (ndarray): corpus of all documents from all categories in test set\n",
    "    Returns:\n",
    "        X_test (ndarray): tfidf word-document matrix of test data\n",
    "    \"\"\"\n",
    "\n",
    "    vectors_test = vectorizer_train.transform(newsgroups_test)\n",
    "    dense_test = vectors_test.todense()\n",
    "    denselist_test = np.array(dense_test).transpose()\n",
    "    X_test = denselist_test.copy()\n",
    "\n",
    "    return X_test"
   ]
  },
  {
   "cell_type": "code",
   "execution_count": 9,
   "metadata": {},
   "outputs": [],
   "source": [
    "def shuffle_data(X,y):\n",
    "    \"\"\"\n",
    "    Shuffle data X, labels y\n",
    "\n",
    "    Args/Returns:\n",
    "        X (ndarray): data matrix, shape (vocabulary, documents)\n",
    "        y (ndarray): labels, shape (documents,)\n",
    "    \"\"\"\n",
    "    data = np.row_stack((X, y))\n",
    "    np.random.shuffle(data.T)\n",
    "    X = data[:-1,:]\n",
    "    y = data[-1,:]\n",
    "\n",
    "    return X, y"
   ]
  },
  {
   "cell_type": "code",
   "execution_count": 10,
   "metadata": {},
   "outputs": [],
   "source": [
    "# Compute the TFIDF representation of the train set\n",
    "vectorizer_train, feature_names_train, X_train = tfidf_train(reviews_list_train, n_features = 5000)"
   ]
  },
  {
   "cell_type": "code",
   "execution_count": 11,
   "metadata": {},
   "outputs": [],
   "source": [
    "train_ratings = np.array(ratings_list_train)\n",
    "X_train, train_ratings = shuffle_data(X_train, train_ratings)"
   ]
  },
  {
   "cell_type": "code",
   "execution_count": 12,
   "metadata": {},
   "outputs": [],
   "source": [
    "# Apply TFIDF transformation to validation set\n",
    "X_val = tfidf_transform(vectorizer_train, reviews_list_val)\n",
    "val_ratings = np.array(ratings_list_val)\n",
    "X_val, val_ratings = shuffle_data(X_val, val_ratings)"
   ]
  },
  {
   "cell_type": "code",
   "execution_count": 13,
   "metadata": {},
   "outputs": [],
   "source": [
    "# Compute the TFIDF representation of the full train set\n",
    "vectorizer_train_full, feature_names_train_full, X_train_full = tfidf_train(full_reviews_list_train, n_features = 5000)\n",
    "full_train_ratings = np.array(full_ratings_list_train)\n",
    "X_train_full, full_train_ratings = shuffle_data(full_reviews_list_train, full_train_ratings)"
   ]
  },
  {
   "cell_type": "code",
   "execution_count": 14,
   "metadata": {},
   "outputs": [],
   "source": [
    "# Apply TFIDF transformation to test data set\n",
    "X_test = tfidf_transform(vectorizer_train_full, full_reviews_list_test)\n",
    "test_ratings = np.array(ratings_list_test)\n",
    "X_test, test_ratings = shuffle_data(X_test, test_ratings)"
   ]
  },
  {
   "cell_type": "code",
   "execution_count": 15,
   "metadata": {},
   "outputs": [],
   "source": [
    "## Convert rating 1-d rating arrays to 2-D to use in SSNMF\n",
    "train_ratings = train_ratings[np.newaxis, :]\n",
    "val_ratings = val_ratings[np.newaxis, :]\n",
    "full_train_ratings = full_train_ratings[np.newaxis, :]\n",
    "test_ratings = test_ratings[np.newaxis, :]"
   ]
  },
  {
   "cell_type": "code",
   "execution_count": 16,
   "metadata": {},
   "outputs": [
    {
     "data": {
      "text/plain": [
       "(5000, 2628)"
      ]
     },
     "execution_count": 16,
     "metadata": {},
     "output_type": "execute_result"
    }
   ],
   "source": [
    "X_train.shape"
   ]
  },
  {
   "cell_type": "code",
   "execution_count": 17,
   "metadata": {},
   "outputs": [
    {
     "data": {
      "text/plain": [
       "(1, 2628)"
      ]
     },
     "execution_count": 17,
     "metadata": {},
     "output_type": "execute_result"
    }
   ],
   "source": [
    "train_ratings.shape"
   ]
  }
 ],
 "metadata": {
  "kernelspec": {
   "display_name": "Python 3",
   "language": "python",
   "name": "python3"
  },
  "language_info": {
   "codemirror_mode": {
    "name": "ipython",
    "version": 3
   },
   "file_extension": ".py",
   "mimetype": "text/x-python",
   "name": "python",
   "nbconvert_exporter": "python",
   "pygments_lexer": "ipython3",
   "version": "3.7.6"
  }
 },
 "nbformat": 4,
 "nbformat_minor": 4
}
